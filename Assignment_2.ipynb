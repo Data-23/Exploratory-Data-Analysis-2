{
 "cells": [
  {
   "cell_type": "code",
   "execution_count": null,
   "id": "48fd71f9",
   "metadata": {},
   "outputs": [],
   "source": [
    "#Flight Price Dataset Analysis"
   ]
  },
  {
   "cell_type": "code",
   "execution_count": null,
   "id": "1d330d15",
   "metadata": {},
   "outputs": [],
   "source": [
    "#Q1"
   ]
  },
  {
   "cell_type": "code",
   "execution_count": null,
   "id": "4a2d7160",
   "metadata": {},
   "outputs": [],
   "source": [
    "\n",
    "import pandas as pd\n",
    "\n",
    "# Load the dataset\n",
    "flight_data = pd.read_csv('flight_price.csv')  # Adjust the path as necessary\n",
    "\n",
    "# Examine dimensions\n",
    "rows, columns = flight_data.shape\n",
    "print(f'The dataset has {rows} rows and {columns} columns.')"
   ]
  },
  {
   "cell_type": "code",
   "execution_count": null,
   "id": "f569eba3",
   "metadata": {},
   "outputs": [],
   "source": [
    "#Q2"
   ]
  },
  {
   "cell_type": "code",
   "execution_count": null,
   "id": "3f6939e4",
   "metadata": {},
   "outputs": [],
   "source": [
    "import matplotlib.pyplot as plt\n",
    "\n",
    "# Plot the distribution of flight prices\n",
    "plt.figure(figsize=(10, 6))\n",
    "plt.hist(flight_data['price'], bins=30, edgecolor='k')\n",
    "plt.title('Distribution of Flight Prices')\n",
    "plt.xlabel('Price')\n",
    "plt.ylabel('Frequency')\n",
    "plt.show()\n"
   ]
  },
  {
   "cell_type": "code",
   "execution_count": null,
   "id": "fb7e5b40",
   "metadata": {},
   "outputs": [],
   "source": [
    "#Q3"
   ]
  },
  {
   "cell_type": "code",
   "execution_count": null,
   "id": "a0e298c1",
   "metadata": {},
   "outputs": [],
   "source": [
    "min_price = flight_data['price'].min()\n",
    "max_price = flight_data['price'].max()\n",
    "print(f'The minimum price is {min_price} and the maximum price is {max_price}.')\n"
   ]
  },
  {
   "cell_type": "code",
   "execution_count": null,
   "id": "cf88f744",
   "metadata": {},
   "outputs": [],
   "source": [
    "#Q4"
   ]
  },
  {
   "cell_type": "code",
   "execution_count": null,
   "id": "d7add34d",
   "metadata": {},
   "outputs": [],
   "source": [
    "plt.figure(figsize=(12, 8))\n",
    "sns.boxplot(x='airline', y='price', data=flight_data)\n",
    "plt.title('Flight Prices by Airline')\n",
    "plt.xlabel('Airline')\n",
    "plt.ylabel('Price')\n",
    "plt.xticks(rotation=90)\n",
    "plt.show()\n"
   ]
  },
  {
   "cell_type": "code",
   "execution_count": null,
   "id": "62a1a8cb",
   "metadata": {},
   "outputs": [],
   "source": [
    "#Q5"
   ]
  },
  {
   "cell_type": "code",
   "execution_count": null,
   "id": "409a73b4",
   "metadata": {},
   "outputs": [],
   "source": [
    "plt.figure(figsize=(12, 8))\n",
    "sns.boxplot(y='price', data=flight_data)\n",
    "plt.title('Boxplot of Flight Prices')\n",
    "plt.ylabel('Price')\n",
    "plt.show()\n",
    "\n",
    "# Identify outliers\n",
    "Q1 = flight_data['price'].quantile(0.25)\n",
    "Q3 = flight_data['price'].quantile(0.75)\n",
    "IQR = Q3 - Q1\n",
    "outliers = flight_data[(flight_data['price'] < (Q1 - 1.5 * IQR)) | (flight_data['price'] > (Q3 + 1.5 * IQR))]\n",
    "print(f'The dataset has {len(outliers)} outliers.')\n"
   ]
  },
  {
   "cell_type": "code",
   "execution_count": null,
   "id": "2c3ce536",
   "metadata": {},
   "outputs": [],
   "source": [
    "#Q6"
   ]
  },
  {
   "cell_type": "code",
   "execution_count": null,
   "id": "2b2fe2e5",
   "metadata": {},
   "outputs": [],
   "source": [
    "# Assuming there's a 'date' column\n",
    "flight_data['date'] = pd.to_datetime(flight_data['date'])\n",
    "flight_data['month'] = flight_data['date'].dt.month\n",
    "\n",
    "# Plot to identify peak travel season\n",
    "plt.figure(figsize=(10, 6))\n",
    "sns.countplot(x='month', data=flight_data)\n",
    "plt.title('Number of Flights per Month')\n",
    "plt.xlabel('Month')\n",
    "plt.ylabel('Number of Flights')\n",
    "plt.show()\n"
   ]
  },
  {
   "cell_type": "code",
   "execution_count": null,
   "id": "27b14522",
   "metadata": {},
   "outputs": [],
   "source": [
    "#Google Playstore Dataset Analysis"
   ]
  },
  {
   "cell_type": "code",
   "execution_count": null,
   "id": "dc939399",
   "metadata": {},
   "outputs": [],
   "source": [
    "#Q1"
   ]
  },
  {
   "cell_type": "code",
   "execution_count": null,
   "id": "faf59a77",
   "metadata": {},
   "outputs": [],
   "source": [
    "# Load the dataset\n",
    "playstore_data = pd.read_csv('google_playstore.csv')  # Adjust the path as necessary\n",
    "\n",
    "# Examine dimensions\n",
    "rows, columns = playstore_data.shape\n",
    "print(f'The dataset has {rows} rows and {columns} columns.')\n"
   ]
  },
  {
   "cell_type": "code",
   "execution_count": null,
   "id": "d8651c9d",
   "metadata": {},
   "outputs": [],
   "source": [
    "#Q2"
   ]
  },
  {
   "cell_type": "code",
   "execution_count": null,
   "id": "2477edbd",
   "metadata": {},
   "outputs": [],
   "source": [
    "plt.figure(figsize=(15, 10))\n",
    "sns.boxplot(x='Category', y='Rating', data=playstore_data)\n",
    "plt.title('App Ratings by Category')\n",
    "plt.xlabel('Category')\n",
    "plt.ylabel('Rating')\n",
    "plt.xticks(rotation=90)\n",
    "plt.show()\n"
   ]
  },
  {
   "cell_type": "code",
   "execution_count": null,
   "id": "4da52ac3",
   "metadata": {},
   "outputs": [],
   "source": [
    "#Q3"
   ]
  },
  {
   "cell_type": "code",
   "execution_count": null,
   "id": "d481b355",
   "metadata": {},
   "outputs": [],
   "source": [
    "missing_values = playstore_data.isnull().sum()\n",
    "print(missing_values[missing_values > 0])\n",
    "\n",
    "# Impact analysis\n",
    "print('Missing values can impact the analysis by introducing bias or reducing the sample size if rows with missing values are dropped.')\n"
   ]
  },
  {
   "cell_type": "code",
   "execution_count": null,
   "id": "80f205bd",
   "metadata": {},
   "outputs": [],
   "source": [
    "#Q4"
   ]
  },
  {
   "cell_type": "code",
   "execution_count": null,
   "id": "9c2f5179",
   "metadata": {},
   "outputs": [],
   "source": [
    "plt.figure(figsize=(10, 6))\n",
    "sns.scatterplot(x='Size', y='Rating', data=playstore_data)\n",
    "plt.title('Relationship between App Size and Rating')\n",
    "plt.xlabel('Size (MB)')\n",
    "plt.ylabel('Rating')\n",
    "plt.show()\n"
   ]
  },
  {
   "cell_type": "code",
   "execution_count": null,
   "id": "f88efdfc",
   "metadata": {},
   "outputs": [],
   "source": [
    "#Q5"
   ]
  },
  {
   "cell_type": "code",
   "execution_count": null,
   "id": "f4fc5b53",
   "metadata": {},
   "outputs": [],
   "source": [
    "avg_price_by_type = playstore_data.groupby('Type')['Price'].mean().reset_index()\n",
    "\n",
    "plt.figure(figsize=(8, 6))\n",
    "sns.barplot(x='Type', y='Price', data=avg_price_by_type)\n",
    "plt.title('Average App Price by Type')\n",
    "plt.xlabel('Type')\n",
    "plt.ylabel('Average Price')\n",
    "plt.show()\n"
   ]
  },
  {
   "cell_type": "code",
   "execution_count": null,
   "id": "f962a6b6",
   "metadata": {},
   "outputs": [],
   "source": [
    "#Q6"
   ]
  },
  {
   "cell_type": "code",
   "execution_count": null,
   "id": "46d683a9",
   "metadata": {},
   "outputs": [],
   "source": [
    "top_10_apps = playstore_data.groupby('App')['Installs'].sum().sort_values(ascending=False).head(10)\n",
    "\n",
    "print(top_10_apps)\n"
   ]
  },
  {
   "cell_type": "code",
   "execution_count": null,
   "id": "f7557af5",
   "metadata": {},
   "outputs": [],
   "source": [
    "#Q7"
   ]
  },
  {
   "cell_type": "code",
   "execution_count": null,
   "id": "f981d2e6",
   "metadata": {},
   "outputs": [],
   "source": [
    "popular_categories = playstore_data['Category'].value_counts().head(10)\n",
    "\n",
    "plt.figure(figsize=(12, 8))\n",
    "sns.barplot(x=popular_categories.index, y=popular_categories.values)\n",
    "plt.title('Top 10 Most Popular App Categories')\n",
    "plt.xlabel('Category')\n",
    "plt.ylabel('Number of Apps')\n",
    "plt.xticks(rotation=90)\n",
    "plt.show()\n"
   ]
  },
  {
   "cell_type": "code",
   "execution_count": null,
   "id": "3e22cf78",
   "metadata": {},
   "outputs": [],
   "source": []
  },
  {
   "cell_type": "code",
   "execution_count": null,
   "id": "9b9043cc",
   "metadata": {},
   "outputs": [],
   "source": []
  },
  {
   "cell_type": "code",
   "execution_count": null,
   "id": "9d307946",
   "metadata": {},
   "outputs": [],
   "source": []
  }
 ],
 "metadata": {
  "kernelspec": {
   "display_name": "Python 3",
   "language": "python",
   "name": "python3"
  },
  "language_info": {
   "codemirror_mode": {
    "name": "ipython",
    "version": 3
   },
   "file_extension": ".py",
   "mimetype": "text/x-python",
   "name": "python",
   "nbconvert_exporter": "python",
   "pygments_lexer": "ipython3",
   "version": "3.11.3"
  }
 },
 "nbformat": 4,
 "nbformat_minor": 5
}
